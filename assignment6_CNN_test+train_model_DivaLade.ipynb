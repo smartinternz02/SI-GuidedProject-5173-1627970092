{
 "cells": [
  {
   "cell_type": "code",
   "execution_count": 1,
   "metadata": {},
   "outputs": [],
   "source": [
    "from tensorflow.keras.models import Sequential\n",
    "from tensorflow.keras.layers import Dense,Convolution2D,MaxPooling2D,Flatten\n",
    "from tensorflow.keras.preprocessing.image import ImageDataGenerator"
   ]
  },
  {
   "cell_type": "code",
   "execution_count": 2,
   "metadata": {},
   "outputs": [],
   "source": [
    "train_datagen = ImageDataGenerator(rescale=1./255,shear_range=0.2,zoom_range=0.2,horizontal_flip=True)\n",
    "test_datagen = ImageDataGenerator(rescale=1./255)"
   ]
  },
  {
   "cell_type": "code",
   "execution_count": 3,
   "metadata": {},
   "outputs": [
    {
     "name": "stdout",
     "output_type": "stream",
     "text": [
      "Found 1524 images belonging to 10 classes.\n",
      "Found 70 images belonging to 10 classes.\n"
     ]
    }
   ],
   "source": [
    "x_train= train_datagen.flow_from_directory(r\"C:\\Users\\dival\\CNN\\birds_train\",target_size=(64,64),batch_size=32,class_mode=\"categorical\")\n",
    "x_test= test_datagen.flow_from_directory(r\"C:\\Users\\dival\\CNN\\birds_test\",target_size=(64,64),batch_size=32,class_mode=\"categorical\")"
   ]
  },
  {
   "cell_type": "code",
   "execution_count": 4,
   "metadata": {},
   "outputs": [
    {
     "data": {
      "text/plain": [
       "{'AMERICAN AVOCET': 0,\n",
       " 'AMERICAN BITTERN': 1,\n",
       " 'AMERICAN COOT': 2,\n",
       " 'AMERICAN GOLDFINCH': 3,\n",
       " 'AMERICAN KESTREL': 4,\n",
       " 'AMERICAN PIPIT': 5,\n",
       " 'AMERICAN REDSTART': 6,\n",
       " 'ANHINGA': 7,\n",
       " 'ANNAS HUMMINGBIRD': 8,\n",
       " 'ANTBIRD': 9}"
      ]
     },
     "execution_count": 4,
     "metadata": {},
     "output_type": "execute_result"
    }
   ],
   "source": [
    "x_train.class_indices"
   ]
  },
  {
   "cell_type": "code",
   "execution_count": 5,
   "metadata": {},
   "outputs": [],
   "source": [
    "model = Sequential()"
   ]
  },
  {
   "cell_type": "code",
   "execution_count": 6,
   "metadata": {},
   "outputs": [
    {
     "name": "stdout",
     "output_type": "stream",
     "text": [
      "WARNING:tensorflow:From C:\\Users\\dival\\Anaconda3\\lib\\site-packages\\tensorflow\\python\\ops\\init_ops.py:1251: calling VarianceScaling.__init__ (from tensorflow.python.ops.init_ops) with dtype is deprecated and will be removed in a future version.\n",
      "Instructions for updating:\n",
      "Call initializer instance with the dtype argument instead of passing it to the constructor\n"
     ]
    }
   ],
   "source": [
    "model.add(Convolution2D(32,(3,3),input_shape=(64,64,3))) #3 channels: red blue green"
   ]
  },
  {
   "cell_type": "code",
   "execution_count": 7,
   "metadata": {},
   "outputs": [],
   "source": [
    "model.add(MaxPooling2D(pool_size=(2,2))) "
   ]
  },
  {
   "cell_type": "code",
   "execution_count": 8,
   "metadata": {},
   "outputs": [],
   "source": [
    "model.add(Flatten()) #ip layer of ann"
   ]
  },
  {
   "cell_type": "code",
   "execution_count": 9,
   "metadata": {},
   "outputs": [
    {
     "name": "stdout",
     "output_type": "stream",
     "text": [
      "WARNING:tensorflow:From C:\\Users\\dival\\Anaconda3\\lib\\site-packages\\tensorflow\\python\\keras\\initializers.py:119: calling RandomUniform.__init__ (from tensorflow.python.ops.init_ops) with dtype is deprecated and will be removed in a future version.\n",
      "Instructions for updating:\n",
      "Call initializer instance with the dtype argument instead of passing it to the constructor\n"
     ]
    }
   ],
   "source": [
    "model.add(Dense(units=128,kernel_initializer=\"random_uniform\",activation=\"relu\"))"
   ]
  },
  {
   "cell_type": "code",
   "execution_count": 10,
   "metadata": {},
   "outputs": [],
   "source": [
    "model.add(Dense(units=128,kernel_initializer=\"random_uniform\",activation=\"relu\"))"
   ]
  },
  {
   "cell_type": "code",
   "execution_count": 11,
   "metadata": {},
   "outputs": [],
   "source": [
    "model.add(Dense(units=10,kernel_initializer=\"random_uniform\",activation=\"softmax\"))"
   ]
  },
  {
   "cell_type": "code",
   "execution_count": 12,
   "metadata": {},
   "outputs": [],
   "source": [
    "model.compile(optimizer='rmsprop',loss=\"categorical_crossentropy\",metrics=[\"accuracy\"])"
   ]
  },
  {
   "cell_type": "code",
   "execution_count": 13,
   "metadata": {},
   "outputs": [
    {
     "name": "stdout",
     "output_type": "stream",
     "text": [
      "Epoch 1/25\n",
      "48/47 [==============================] - 5s 100ms/step - loss: 2.2078 - acc: 0.1759 - val_loss: 3.0478 - val_acc: 0.2857 2s - loss: 2.\n",
      "Epoch 2/25\n",
      "48/47 [==============================] - 5s 107ms/step - loss: 1.8861 - acc: 0.3261 - val_loss: 2.8985 - val_acc: 0.3429\n",
      "Epoch 3/25\n",
      "48/47 [==============================] - 5s 98ms/step - loss: 1.6244 - acc: 0.4364 - val_loss: 2.7578 - val_acc: 0.4429\n",
      "Epoch 4/25\n",
      "48/47 [==============================] - 5s 97ms/step - loss: 1.4111 - acc: 0.5203 - val_loss: 2.3536 - val_acc: 0.5714\n",
      "Epoch 5/25\n",
      "48/47 [==============================] - 5s 96ms/step - loss: 1.2474 - acc: 0.5840 - val_loss: 1.8908 - val_acc: 0.6000\n",
      "Epoch 6/25\n",
      "48/47 [==============================] - 5s 99ms/step - loss: 1.1227 - acc: 0.6332 - val_loss: 1.8020 - val_acc: 0.6000\n",
      "Epoch 7/25\n",
      "48/47 [==============================] - 5s 97ms/step - loss: 1.0603 - acc: 0.6522 - val_loss: 2.0272 - val_acc: 0.5286\n",
      "Epoch 8/25\n",
      "48/47 [==============================] - 5s 101ms/step - loss: 0.9402 - acc: 0.6923 - val_loss: 2.0667 - val_acc: 0.5571\n",
      "Epoch 9/25\n",
      "48/47 [==============================] - 5s 97ms/step - loss: 0.8715 - acc: 0.7178 - val_loss: 1.8323 - val_acc: 0.5714\n",
      "Epoch 10/25\n",
      "48/47 [==============================] - 5s 98ms/step - loss: 0.7924 - acc: 0.7461 - val_loss: 2.1786 - val_acc: 0.5286\n",
      "Epoch 11/25\n",
      "48/47 [==============================] - 5s 98ms/step - loss: 0.6947 - acc: 0.7776 - val_loss: 3.0582 - val_acc: 0.5571\n",
      "Epoch 12/25\n",
      "48/47 [==============================] - 5s 102ms/step - loss: 0.6534 - acc: 0.7815 - val_loss: 2.9942 - val_acc: 0.5857\n",
      "Epoch 13/25\n",
      "48/47 [==============================] - 5s 108ms/step - loss: 0.6155 - acc: 0.7979 - val_loss: 2.7590 - val_acc: 0.6143\n",
      "Epoch 14/25\n",
      "48/47 [==============================] - 5s 100ms/step - loss: 0.5819 - acc: 0.8091 - val_loss: 2.8175 - val_acc: 0.5714\n",
      "Epoch 15/25\n",
      "48/47 [==============================] - 5s 105ms/step - loss: 0.5541 - acc: 0.8150 - val_loss: 2.9525 - val_acc: 0.5429\n",
      "Epoch 16/25\n",
      "48/47 [==============================] - 5s 110ms/step - loss: 0.4800 - acc: 0.8333 - val_loss: 2.6540 - val_acc: 0.6000\n",
      "Epoch 17/25\n",
      "48/47 [==============================] - 5s 99ms/step - loss: 0.4282 - acc: 0.8563 - val_loss: 2.8400 - val_acc: 0.5714\n",
      "Epoch 18/25\n",
      "48/47 [==============================] - 5s 104ms/step - loss: 0.3924 - acc: 0.8648 - val_loss: 3.0680 - val_acc: 0.6143\n",
      "Epoch 19/25\n",
      "48/47 [==============================] - 5s 102ms/step - loss: 0.3781 - acc: 0.8714 - val_loss: 2.4874 - val_acc: 0.6429\n",
      "Epoch 20/25\n",
      "48/47 [==============================] - 5s 101ms/step - loss: 0.3159 - acc: 0.8911 - val_loss: 2.6226 - val_acc: 0.6286\n",
      "Epoch 21/25\n",
      "48/47 [==============================] - 5s 99ms/step - loss: 0.3494 - acc: 0.8852 - val_loss: 3.2914 - val_acc: 0.5571\n",
      "Epoch 22/25\n",
      "48/47 [==============================] - 5s 108ms/step - loss: 0.2869 - acc: 0.9022 - val_loss: 3.2439 - val_acc: 0.5714\n",
      "Epoch 23/25\n",
      "48/47 [==============================] - 5s 101ms/step - loss: 0.2655 - acc: 0.9140 - val_loss: 3.3613 - val_acc: 0.6000\n",
      "Epoch 24/25\n",
      "48/47 [==============================] - 5s 99ms/step - loss: 0.2300 - acc: 0.9232 - val_loss: 3.6411 - val_acc: 0.5857\n",
      "Epoch 25/25\n",
      "48/47 [==============================] - 5s 108ms/step - loss: 0.2603 - acc: 0.9081 - val_loss: 3.0107 - val_acc: 0.7000\n"
     ]
    },
    {
     "data": {
      "text/plain": [
       "<tensorflow.python.keras.callbacks.History at 0x2d8846c2c50>"
      ]
     },
     "execution_count": 13,
     "metadata": {},
     "output_type": "execute_result"
    }
   ],
   "source": [
    "model.fit_generator(x_train,steps_per_epoch=1524/32,epochs=25,validation_data=x_test,validation_steps=70/32) #noofimgs/batchsize"
   ]
  },
  {
   "cell_type": "code",
   "execution_count": 14,
   "metadata": {},
   "outputs": [],
   "source": [
    "model.save(\"birds.h5\")"
   ]
  },
  {
   "cell_type": "markdown",
   "metadata": {},
   "source": [
    "# testing model\n"
   ]
  },
  {
   "cell_type": "code",
   "execution_count": 15,
   "metadata": {},
   "outputs": [],
   "source": [
    "from tensorflow.keras.models import load_model\n",
    "from tensorflow.keras.preprocessing import image"
   ]
  },
  {
   "cell_type": "code",
   "execution_count": 95,
   "metadata": {},
   "outputs": [],
   "source": [
    "m = load_model(\"birds.h5\")"
   ]
  },
  {
   "cell_type": "code",
   "execution_count": 62,
   "metadata": {},
   "outputs": [],
   "source": [
    "img = image.load_img(\"americanbittern.jpg\",target_size = (64,64)) "
   ]
  },
  {
   "cell_type": "code",
   "execution_count": 63,
   "metadata": {},
   "outputs": [
    {
     "data": {
      "text/plain": [
       "PIL.Image.Image"
      ]
     },
     "execution_count": 63,
     "metadata": {},
     "output_type": "execute_result"
    }
   ],
   "source": [
    "type(img)"
   ]
  },
  {
   "cell_type": "code",
   "execution_count": 64,
   "metadata": {},
   "outputs": [],
   "source": [
    "x = image.img_to_array(img)"
   ]
  },
  {
   "cell_type": "code",
   "execution_count": 65,
   "metadata": {},
   "outputs": [
    {
     "data": {
      "text/plain": [
       "numpy.ndarray"
      ]
     },
     "execution_count": 65,
     "metadata": {},
     "output_type": "execute_result"
    }
   ],
   "source": [
    "type(x)"
   ]
  },
  {
   "cell_type": "code",
   "execution_count": 66,
   "metadata": {},
   "outputs": [
    {
     "data": {
      "text/plain": [
       "(64, 64, 3)"
      ]
     },
     "execution_count": 66,
     "metadata": {},
     "output_type": "execute_result"
    }
   ],
   "source": [
    "x.shape"
   ]
  },
  {
   "cell_type": "code",
   "execution_count": 67,
   "metadata": {},
   "outputs": [],
   "source": [
    "import numpy as np\n",
    "x = np.expand_dims(x,axis = 0)"
   ]
  },
  {
   "cell_type": "code",
   "execution_count": 68,
   "metadata": {},
   "outputs": [
    {
     "data": {
      "text/plain": [
       "(1, 64, 64, 3)"
      ]
     },
     "execution_count": 68,
     "metadata": {},
     "output_type": "execute_result"
    }
   ],
   "source": [
    "x.shape"
   ]
  },
  {
   "cell_type": "code",
   "execution_count": 69,
   "metadata": {},
   "outputs": [],
   "source": [
    "pred = model.predict(x)"
   ]
  },
  {
   "cell_type": "code",
   "execution_count": 70,
   "metadata": {},
   "outputs": [
    {
     "data": {
      "text/plain": [
       "array([0., 1., 0., 0., 0., 0., 0., 0., 0., 0.], dtype=float32)"
      ]
     },
     "execution_count": 70,
     "metadata": {},
     "output_type": "execute_result"
    }
   ],
   "source": [
    "pred[0]"
   ]
  },
  {
   "cell_type": "code",
   "execution_count": 71,
   "metadata": {},
   "outputs": [],
   "source": [
    "index = [\"AMERICAN AVOCET\",\"AMERICAN BITTERN\",\"AMERICAN COOT\",\"AMERICAN GOLDFINCH\",\"AMERICAN KESTREL\",\"AMERICAN PIPIT\",\"AMERICAN REDSTART\",\"ANHINGA\",\"ANNAS HUMMINGBIRD\",\"ANTBIRD\"]\n",
    "prediction = index[np.argmax(pred[0])]"
   ]
  },
  {
   "cell_type": "code",
   "execution_count": 73,
   "metadata": {},
   "outputs": [
    {
     "data": {
      "text/plain": [
       "'AMERICAN BITTERN'"
      ]
     },
     "execution_count": 73,
     "metadata": {},
     "output_type": "execute_result"
    }
   ],
   "source": [
    "prediction"
   ]
  },
  {
   "cell_type": "markdown",
   "metadata": {},
   "source": [
    "# testing with one more example"
   ]
  },
  {
   "cell_type": "code",
   "execution_count": 75,
   "metadata": {},
   "outputs": [],
   "source": [
    "img1 = image.load_img(\"americangoldfinch.jpg\",target_size = (64,64)) "
   ]
  },
  {
   "cell_type": "code",
   "execution_count": 76,
   "metadata": {},
   "outputs": [
    {
     "data": {
      "text/plain": [
       "PIL.Image.Image"
      ]
     },
     "execution_count": 76,
     "metadata": {},
     "output_type": "execute_result"
    }
   ],
   "source": [
    "type(img1)"
   ]
  },
  {
   "cell_type": "code",
   "execution_count": 79,
   "metadata": {},
   "outputs": [],
   "source": [
    "y = image.img_to_array(img1)"
   ]
  },
  {
   "cell_type": "code",
   "execution_count": 81,
   "metadata": {},
   "outputs": [
    {
     "data": {
      "text/plain": [
       "numpy.ndarray"
      ]
     },
     "execution_count": 81,
     "metadata": {},
     "output_type": "execute_result"
    }
   ],
   "source": [
    "type(y)"
   ]
  },
  {
   "cell_type": "code",
   "execution_count": 82,
   "metadata": {},
   "outputs": [],
   "source": [
    "y = np.expand_dims(x,axis = 0)"
   ]
  },
  {
   "cell_type": "code",
   "execution_count": 83,
   "metadata": {},
   "outputs": [
    {
     "data": {
      "text/plain": [
       "(1, 64, 64, 3)"
      ]
     },
     "execution_count": 83,
     "metadata": {},
     "output_type": "execute_result"
    }
   ],
   "source": [
    "y.shape"
   ]
  },
  {
   "cell_type": "code",
   "execution_count": 91,
   "metadata": {},
   "outputs": [],
   "source": [
    "pred2= model.predict(y)"
   ]
  },
  {
   "cell_type": "code",
   "execution_count": 92,
   "metadata": {},
   "outputs": [
    {
     "data": {
      "text/plain": [
       "array([0., 0., 0., 1., 0., 0., 0., 0., 0., 0.], dtype=float32)"
      ]
     },
     "execution_count": 92,
     "metadata": {},
     "output_type": "execute_result"
    }
   ],
   "source": [
    "pred2[0]"
   ]
  },
  {
   "cell_type": "code",
   "execution_count": 93,
   "metadata": {},
   "outputs": [],
   "source": [
    "index = [\"AMERICAN AVOCET\",\"AMERICAN BITTERN\",\"AMERICAN COOT\",\"AMERICAN GOLDFINCH\",\"AMERICAN KESTREL\",\"AMERICAN PIPIT\",\"AMERICAN REDSTART\",\"ANHINGA\",\"ANNAS HUMMINGBIRD\",\"ANTBIRD\"]\n",
    "prediction2 = index[np.argmax(pred[0])]"
   ]
  },
  {
   "cell_type": "code",
   "execution_count": 94,
   "metadata": {},
   "outputs": [
    {
     "data": {
      "text/plain": [
       "'AMERICAN GOLDFINCH'"
      ]
     },
     "execution_count": 94,
     "metadata": {},
     "output_type": "execute_result"
    }
   ],
   "source": [
    "prediction2"
   ]
  }
 ],
 "metadata": {
  "kernelspec": {
   "display_name": "Python 3",
   "language": "python",
   "name": "python3"
  },
  "language_info": {
   "codemirror_mode": {
    "name": "ipython",
    "version": 3
   },
   "file_extension": ".py",
   "mimetype": "text/x-python",
   "name": "python",
   "nbconvert_exporter": "python",
   "pygments_lexer": "ipython3",
   "version": "3.7.3"
  }
 },
 "nbformat": 4,
 "nbformat_minor": 2
}
